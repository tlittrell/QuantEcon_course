{
 "cells": [
  {
   "cell_type": "markdown",
   "metadata": {},
   "source": [
    "# Linear state space models\n",
    "\n",
    "Adapted from https://lectures.quantecon.org/py/linear_models.html"
   ]
  },
  {
   "cell_type": "markdown",
   "metadata": {},
   "source": [
    "The components of a linear state space model are:\n",
    "* A **state** vector $x_t$ of dimension $nx1$ containing the state at times $t=0,1,2,...$\n",
    "* An iid sequence of $mx1$ random vectors $w_t ~ N(0,I)$\n",
    "* An **measurements** vector $y_t$ with dimension $kx1$\n",
    "* An $nxn$ **transition matrix** denoted $A$\n",
    "* An $nxm$ **volatility** matrix denoted $C$\n",
    "* A $kxn$ **output matrix** $G$\n",
    "\n",
    "These combine into the linear state space system:\n",
    "$$ \n",
    "\\begin{align*}\n",
    "x_{t+1} &= Ax_t + Cw_{t+1} \\\\\n",
    "y_t &= Gx_t \\\\\n",
    "x_0 &~ N(\\mu_0, \\Sigma_0)\n",
    "\\end{align*}\n",
    "$$"
   ]
  },
  {
   "cell_type": "markdown",
   "metadata": {},
   "source": [
    "### Second-order process\n",
    "\n",
    "Let $\\{y_t\\}$ be a deterministic process with $y_{t+1} = \\phi_0 + \\phi_1 y_t + \\phi_2 y_{t-1}$. This maps to the state-space system\n",
    "$x_t = (1, y_t, y_{t-1})$,"
   ]
  },
  {
   "cell_type": "code",
   "execution_count": null,
   "metadata": {},
   "outputs": [],
   "source": []
  }
 ],
 "metadata": {
  "kernelspec": {
   "display_name": "Python 3",
   "language": "python",
   "name": "python3"
  },
  "language_info": {
   "codemirror_mode": {
    "name": "ipython",
    "version": 3
   },
   "file_extension": ".py",
   "mimetype": "text/x-python",
   "name": "python",
   "nbconvert_exporter": "python",
   "pygments_lexer": "ipython3",
   "version": "3.7.0"
  }
 },
 "nbformat": 4,
 "nbformat_minor": 2
}
